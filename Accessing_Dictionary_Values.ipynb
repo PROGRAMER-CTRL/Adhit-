{
  "nbformat": 4,
  "nbformat_minor": 0,
  "metadata": {
    "colab": {
      "provenance": []
    },
    "kernelspec": {
      "name": "python3",
      "display_name": "Python 3"
    },
    "language_info": {
      "name": "python"
    }
  },
  "cells": [
    {
      "cell_type": "code",
      "execution_count": 1,
      "metadata": {
        "colab": {
          "base_uri": "https://localhost:8080/"
        },
        "id": "z7CAGD4N8cL1",
        "outputId": "70c1dda5-acf5-4882-860d-98469753d570"
      },
      "outputs": [
        {
          "output_type": "stream",
          "name": "stdout",
          "text": [
            "Name: Adhit\n",
            "Age: 19\n",
            "City: Banglore\n"
          ]
        }
      ],
      "source": [
        "my_dict = {\n",
        "    \"name\": \"Adhit\",\n",
        "    \"age\": \"19\",\n",
        "    \"city\": \"Banglore\"\n",
        "}\n",
        "\n",
        "name_value = my_dict[\"name\"]\n",
        "age_value = my_dict[\"age\"]\n",
        "city_value = my_dict[\"city\"]\n",
        "\n",
        "print(\"Name:\", name_value)\n",
        "print(\"Age:\", age_value)\n",
        "print(\"City:\", city_value)\n"
      ]
    }
  ]
}