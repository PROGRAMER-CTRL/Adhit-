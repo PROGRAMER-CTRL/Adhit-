{
  "nbformat": 4,
  "nbformat_minor": 0,
  "metadata": {
    "colab": {
      "provenance": []
    },
    "kernelspec": {
      "name": "python3",
      "display_name": "Python 3"
    },
    "language_info": {
      "name": "python"
    }
  },
  "cells": [
    {
      "source": [
        "# Get input from the user\n",
        "string = input(\"Enter a string: \")\n",
        "\n",
        "# Calculate the length of the string\n",
        "length = len(string)\n",
        "\n",
        "# Print the length of the string\n",
        "print(\"The length of the string is:\", length)"
      ],
      "cell_type": "code",
      "metadata": {
        "colab": {
          "base_uri": "https://localhost:8080/"
        },
        "id": "nrMpBanN1qPS",
        "outputId": "03cc1841-760b-457a-8724-8a5c19136469"
      },
      "execution_count": 21,
      "outputs": [
        {
          "output_type": "stream",
          "name": "stdout",
          "text": [
            "Enter a string: 8\n",
            "The length of the string is: 1\n"
          ]
        }
      ]
    }
  ]
}