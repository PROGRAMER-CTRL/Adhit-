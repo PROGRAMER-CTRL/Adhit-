{
  "nbformat": 4,
  "nbformat_minor": 0,
  "metadata": {
    "colab": {
      "provenance": []
    },
    "kernelspec": {
      "name": "python3",
      "display_name": "Python 3"
    },
    "language_info": {
      "name": "python"
    }
  },
  "cells": [
    {
      "cell_type": "markdown",
      "source": [
        "**LIST**"
      ],
      "metadata": {
        "id": "lyxaNAE-74-5"
      }
    },
    {
      "cell_type": "code",
      "source": [
        "numbers = [5, 7, 4, 9]\n",
        "mixed = [1, \"hello\", 3.14]\n",
        "print(mixed)"
      ],
      "metadata": {
        "colab": {
          "base_uri": "https://localhost:8080/"
        },
        "id": "GpmRSyaj76tT",
        "outputId": "ddd505c4-b276-49f0-f224-cedf90ae580a"
      },
      "execution_count": null,
      "outputs": [
        {
          "output_type": "stream",
          "name": "stdout",
          "text": [
            "[1, 'hello', 3.14]\n"
          ]
        }
      ]
    },
    {
      "cell_type": "code",
      "source": [
        "numbers"
      ],
      "metadata": {
        "colab": {
          "base_uri": "https://localhost:8080/"
        },
        "id": "WOFyUOBW8O1Z",
        "outputId": "c985c328-2967-4a2b-9b93-da8991922098"
      },
      "execution_count": null,
      "outputs": [
        {
          "output_type": "execute_result",
          "data": {
            "text/plain": [
              "[5, 7, 4, 9]"
            ]
          },
          "metadata": {},
          "execution_count": 10
        }
      ]
    },
    {
      "cell_type": "markdown",
      "source": [
        "Accessing Items"
      ],
      "metadata": {
        "id": "pDws2VHB8Rnt"
      }
    },
    {
      "cell_type": "code",
      "source": [
        "numbers =[5,7,4,9]\n",
        "print(numbers[0])\n",
        "print(numbers[3])\n"
      ],
      "metadata": {
        "colab": {
          "base_uri": "https://localhost:8080/"
        },
        "id": "i4VbStbO8pxf",
        "outputId": "38548b9e-b0c6-433d-b51e-3e9ef7234fee"
      },
      "execution_count": null,
      "outputs": [
        {
          "output_type": "stream",
          "name": "stdout",
          "text": [
            "5\n",
            "9\n"
          ]
        }
      ]
    },
    {
      "cell_type": "markdown",
      "source": [
        "Modifying Items"
      ],
      "metadata": {
        "id": "Vfos7BCp9gJ-"
      }
    },
    {
      "cell_type": "code",
      "source": [
        "numbers =[10,11,22,44,55,50]\n",
        "numbers[0] = 50\n",
        "print(numbers)"
      ],
      "metadata": {
        "colab": {
          "base_uri": "https://localhost:8080/"
        },
        "id": "cD7BR0eE9kwX",
        "outputId": "e06dfa67-7a26-4236-8083-826f04e122ee"
      },
      "execution_count": null,
      "outputs": [
        {
          "output_type": "stream",
          "name": "stdout",
          "text": [
            "[50, 11, 22, 44, 55, 50]\n"
          ]
        }
      ]
    },
    {
      "cell_type": "markdown",
      "source": [
        "Adding Items"
      ],
      "metadata": {
        "id": "emG_Ugcr94lg"
      }
    },
    {
      "cell_type": "code",
      "source": [
        "numbers =[10,11,22,44,55,50]\n",
        "numbers.append(1000)\n",
        "print(numbers)"
      ],
      "metadata": {
        "colab": {
          "base_uri": "https://localhost:8080/"
        },
        "id": "ajAD1gYq96pB",
        "outputId": "4146c99d-523b-4318-d161-03a15272dfba"
      },
      "execution_count": null,
      "outputs": [
        {
          "output_type": "stream",
          "name": "stdout",
          "text": [
            "[10, 11, 22, 44, 55, 50, 1000]\n"
          ]
        }
      ]
    },
    {
      "cell_type": "markdown",
      "source": [
        "Inserting Items"
      ],
      "metadata": {
        "id": "YvXs40fd-EN2"
      }
    },
    {
      "cell_type": "code",
      "source": [
        "numbers =[10,11,22,44,55,50]\n",
        "numbers.insert(4,100)\n",
        "print(numbers)"
      ],
      "metadata": {
        "colab": {
          "base_uri": "https://localhost:8080/"
        },
        "id": "MrmQyyud-Hji",
        "outputId": "5e5be94f-d1d6-4e6a-be11-dc0ef7d9bef3"
      },
      "execution_count": null,
      "outputs": [
        {
          "output_type": "stream",
          "name": "stdout",
          "text": [
            "[10, 11, 22, 44, 100, 55, 50]\n"
          ]
        }
      ]
    },
    {
      "cell_type": "markdown",
      "source": [
        "Removing Items"
      ],
      "metadata": {
        "id": "2Le1dMsi-SIF"
      }
    },
    {
      "cell_type": "code",
      "source": [
        "numbers =[10,11,22,44,55,50]\n",
        "numbers.remove(22)\n",
        "print(numbers)"
      ],
      "metadata": {
        "colab": {
          "base_uri": "https://localhost:8080/"
        },
        "id": "e6iTmFq--exS",
        "outputId": "348c2231-02bf-42b0-f1bd-0ce6f313c6c1"
      },
      "execution_count": null,
      "outputs": [
        {
          "output_type": "stream",
          "name": "stdout",
          "text": [
            "[10, 11, 44, 55, 50]\n"
          ]
        }
      ]
    },
    {
      "cell_type": "markdown",
      "source": [
        "Pop"
      ],
      "metadata": {
        "id": "fBsRaoua-mB6"
      }
    },
    {
      "cell_type": "code",
      "source": [
        "numbers =[10,11,22,44,55,50]\n",
        "numbers.pop(4)\n",
        "print(numbers)"
      ],
      "metadata": {
        "colab": {
          "base_uri": "https://localhost:8080/"
        },
        "id": "1BITwZU_-pur",
        "outputId": "19d82e8c-37f6-4666-a644-baef11ae5cc8"
      },
      "execution_count": null,
      "outputs": [
        {
          "output_type": "stream",
          "name": "stdout",
          "text": [
            "[10, 11, 22, 44, 50]\n"
          ]
        }
      ]
    },
    {
      "cell_type": "markdown",
      "source": [
        "Length of the Items\n",
        "\n",
        "```\n",
        "`# This is formatted as code`\n",
        "```\n",
        "\n"
      ],
      "metadata": {
        "id": "FDYc4MkK-yvW"
      }
    },
    {
      "cell_type": "code",
      "source": [
        "numbers =[10,11,22,44,55,50]\n",
        "print(len(numbers))\n"
      ],
      "metadata": {
        "colab": {
          "base_uri": "https://localhost:8080/"
        },
        "id": "d6X_vnY8-5_m",
        "outputId": "67f99cf8-7037-4439-c6cd-d0fe8b5fd260"
      },
      "execution_count": null,
      "outputs": [
        {
          "output_type": "stream",
          "name": "stdout",
          "text": [
            "6\n"
          ]
        }
      ]
    },
    {
      "cell_type": "markdown",
      "source": [
        "Sorting Items"
      ],
      "metadata": {
        "id": "093yiOMd--_U"
      }
    },
    {
      "cell_type": "code",
      "source": [
        "numbers =[10,11,22,44,55,50]\n",
        "numbers.sort()\n",
        "print(numbers)"
      ],
      "metadata": {
        "colab": {
          "base_uri": "https://localhost:8080/"
        },
        "id": "Hd5mQtPX_IyW",
        "outputId": "1f574d29-70b9-4cc0-8523-c3d02888ccd1"
      },
      "execution_count": null,
      "outputs": [
        {
          "output_type": "stream",
          "name": "stdout",
          "text": [
            "[10, 11, 22, 44, 50, 55]\n"
          ]
        }
      ]
    },
    {
      "cell_type": "markdown",
      "source": [
        "Reversing Items"
      ],
      "metadata": {
        "id": "ESfD55yN_OrW"
      }
    },
    {
      "cell_type": "code",
      "source": [
        "numbers =[10,11,22,44,55,50]\n",
        "numbers.reverse()\n",
        "print(numbers)"
      ],
      "metadata": {
        "colab": {
          "base_uri": "https://localhost:8080/"
        },
        "id": "bQ1YW3V7_UPK",
        "outputId": "bf8a2695-ce8e-41a2-f2f9-635875858293"
      },
      "execution_count": null,
      "outputs": [
        {
          "output_type": "stream",
          "name": "stdout",
          "text": [
            "[50, 55, 44, 22, 11, 10]\n"
          ]
        }
      ]
    },
    {
      "cell_type": "markdown",
      "source": [
        "Iterating"
      ],
      "metadata": {
        "id": "Jg99SxBv_Zdg"
      }
    },
    {
      "cell_type": "code",
      "source": [
        "numbers =[10,11,22,44,55,50]\n",
        "for number in numbers:\n",
        "  print(number)"
      ],
      "metadata": {
        "colab": {
          "base_uri": "https://localhost:8080/"
        },
        "id": "dYjYHnxN_djX",
        "outputId": "070c08b8-29c5-4f1c-e82b-3f8deade66e3"
      },
      "execution_count": null,
      "outputs": [
        {
          "output_type": "stream",
          "name": "stdout",
          "text": [
            "10\n",
            "11\n",
            "22\n",
            "44\n",
            "55\n",
            "50\n"
          ]
        }
      ]
    },
    {
      "cell_type": "markdown",
      "source": [
        "Dictionary"
      ],
      "metadata": {
        "id": "6fHyC37__h0W"
      }
    },
    {
      "cell_type": "code",
      "source": [
        "student = {\n",
        "\"name\": \"Alice\",\n",
        "\"age\":20,\n",
        "\"marks\": 85\n",
        "}"
      ],
      "metadata": {
        "id": "q525ch9m_lEP"
      },
      "execution_count": null,
      "outputs": []
    },
    {
      "cell_type": "code",
      "source": [],
      "metadata": {
        "colab": {
          "base_uri": "https://localhost:8080/"
        },
        "id": "UnLOCuRdIlZW",
        "outputId": "6e98c9ba-4c9b-4710-8615-6e885ec8dee6"
      },
      "execution_count": null,
      "outputs": [
        {
          "output_type": "stream",
          "name": "stdout",
          "text": [
            "Alice\n"
          ]
        }
      ]
    }
  ]
}