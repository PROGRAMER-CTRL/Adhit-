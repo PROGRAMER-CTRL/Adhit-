{
  "nbformat": 4,
  "nbformat_minor": 0,
  "metadata": {
    "colab": {
      "provenance": []
    },
    "kernelspec": {
      "name": "python3",
      "display_name": "Python 3"
    },
    "language_info": {
      "name": "python"
    }
  },
  "cells": [
    {
      "cell_type": "code",
      "source": [
        "# Input principal amount, interest rate, and time period\n",
        "principal = float(input(\"Enter the principal amount: \"))\n",
        "rate = float(input(\"Enter the interest rate: \"))\n",
        "time = float(input(\"Enter the time period in years: \"))\n",
        "\n",
        "# Calculate simple interest\n",
        "interest = (principal * rate * time) / 100\n",
        "\n",
        "# Print the calculated simple interest\n",
        "print(\"Simple Interest:\", interest)"
      ],
      "metadata": {
        "colab": {
          "base_uri": "https://localhost:8080/"
        },
        "id": "WqUK0hxkhihs",
        "outputId": "eb6426d0-e769-4b7e-9473-88f2024b09ee"
      },
      "execution_count": 20,
      "outputs": [
        {
          "output_type": "stream",
          "name": "stdout",
          "text": [
            "Enter the principal amount: 1000\n",
            "Enter the interest rate: 10\n",
            "Enter the time period in years: 2\n",
            "Simple Interest: 200.0\n"
          ]
        }
      ]
    }
  ]
}