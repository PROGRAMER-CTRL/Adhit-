{
  "nbformat": 4,
  "nbformat_minor": 0,
  "metadata": {
    "colab": {
      "provenance": []
    },
    "kernelspec": {
      "name": "python3",
      "display_name": "Python 3"
    },
    "language_info": {
      "name": "python"
    }
  },
  "cells": [
    {
      "cell_type": "code",
      "execution_count": 1,
      "metadata": {
        "colab": {
          "base_uri": "https://localhost:8080/"
        },
        "id": "MZyBCzH56VZd",
        "outputId": "3fb6984b-5563-4136-bb4b-9bbff9d63dd7"
      },
      "outputs": [
        {
          "output_type": "stream",
          "name": "stdout",
          "text": [
            "Concatenated Tuple: (4, 5, 6, 7, 8, 9)\n"
          ]
        }
      ],
      "source": [
        "tuple1 = (4, 5, 6)\n",
        "tuple2 = (7, 8, 9)\n",
        "concatenated_tuple = tuple1 + tuple2\n",
        "print(\"Concatenated Tuple:\", concatenated_tuple)\n"
      ]
    }
  ]
}