{
  "nbformat": 4,
  "nbformat_minor": 0,
  "metadata": {
    "colab": {
      "provenance": [],
      "toc_visible": true
    },
    "kernelspec": {
      "name": "python3",
      "display_name": "Python 3"
    },
    "language_info": {
      "name": "python"
    }
  },
  "cells": [
    {
      "source": [
        "import math\n",
        "\n",
        "# Get the radius from the user\n",
        "radius = float(input(\"Enter the radius of the circle: \"))\n",
        "\n",
        "# Calculate the area\n",
        "area = math.pi * radius**2\n",
        "\n",
        "# Print the result\n",
        "print(\"The area of the circle is:\", area)"
      ],
      "cell_type": "code",
      "metadata": {
        "colab": {
          "base_uri": "https://localhost:8080/"
        },
        "id": "U96pz7WaukKj",
        "outputId": "a2db0790-8513-43b7-882a-f9b07c10f632"
      },
      "execution_count": 6,
      "outputs": [
        {
          "output_type": "stream",
          "name": "stdout",
          "text": [
            "Enter the radius of the circle: 4\n",
            "The area of the circle is: 50.26548245743669\n"
          ]
        }
      ]
    }
  ]
}