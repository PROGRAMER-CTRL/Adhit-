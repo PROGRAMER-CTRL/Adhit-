{
  "nbformat": 4,
  "nbformat_minor": 0,
  "metadata": {
    "colab": {
      "provenance": []
    },
    "kernelspec": {
      "name": "python3",
      "display_name": "Python 3"
    },
    "language_info": {
      "name": "python"
    }
  },
  "cells": [
    {
      "source": [
        "def is_positive(number):\n",
        "  \"\"\"Checks if a number is positive.\n",
        "\n",
        "  Args:\n",
        "    number: An integer.\n",
        "\n",
        "  Returns:\n",
        "    True if the number is positive, False otherwise.\n",
        "  \"\"\"\n",
        "  return number > 0\n",
        "\n",
        "# Get input from the user\n",
        "number = int(input(\"Enter an integer: \"))\n",
        "\n",
        "# Check if the number is positive\n",
        "result = is_positive(number)\n",
        "\n",
        "# Print the result\n",
        "print(result)"
      ],
      "cell_type": "code",
      "metadata": {
        "colab": {
          "base_uri": "https://localhost:8080/"
        },
        "id": "sJyzi5Mo2NvY",
        "outputId": "9e243351-f342-4ea6-d6cb-3598ea26c191"
      },
      "execution_count": 23,
      "outputs": [
        {
          "output_type": "stream",
          "name": "stdout",
          "text": [
            "Enter an integer: 2\n",
            "True\n"
          ]
        }
      ]
    }
  ]
}