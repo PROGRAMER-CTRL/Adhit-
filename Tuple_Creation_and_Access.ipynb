{
  "nbformat": 4,
  "nbformat_minor": 0,
  "metadata": {
    "colab": {
      "provenance": []
    },
    "kernelspec": {
      "name": "python3",
      "display_name": "Python 3"
    },
    "language_info": {
      "name": "python"
    }
  },
  "cells": [
    {
      "cell_type": "code",
      "execution_count": 19,
      "metadata": {
        "colab": {
          "base_uri": "https://localhost:8080/"
        },
        "id": "h0tAUU_pvA5H",
        "outputId": "1c8356ef-bd23-46e7-82fa-a34cf08d899b"
      },
      "outputs": [
        {
          "output_type": "stream",
          "name": "stdout",
          "text": [
            "2025\n",
            "hi\n",
            "Adhit!!\n"
          ]
        }
      ],
      "source": [
        "my_tuple = (2025,\"hi\",\"Adhit!!\")\n",
        "\n",
        "print(my_tuple[0])\n",
        "print(my_tuple[1])\n",
        "print(my_tuple[2])\n"
      ]
    }
  ]
}