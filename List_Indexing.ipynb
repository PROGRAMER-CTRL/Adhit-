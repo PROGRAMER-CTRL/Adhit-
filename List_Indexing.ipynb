{
  "nbformat": 4,
  "nbformat_minor": 0,
  "metadata": {
    "colab": {
      "provenance": []
    },
    "kernelspec": {
      "name": "python3",
      "display_name": "Python 3"
    },
    "language_info": {
      "name": "python"
    }
  },
  "cells": [
    {
      "cell_type": "code",
      "execution_count": 1,
      "metadata": {
        "colab": {
          "base_uri": "https://localhost:8080/"
        },
        "id": "CApc-WG-qz9v",
        "outputId": "de1189b5-82d5-4c1e-9dc4-c6d62c2ff620"
      },
      "outputs": [
        {
          "output_type": "stream",
          "name": "stdout",
          "text": [
            "First element: 10\n",
            "Last element: 50\n",
            "Middle element: 30\n"
          ]
        }
      ],
      "source": [
        "my_list = [10, 20, 30, 40, 50]\n",
        "\n",
        "first_element = my_list[0]\n",
        "\n",
        "last_element = my_list[-1]\n",
        "\n",
        "middle_index = len(my_list) // 2\n",
        "middle_element = my_list[middle_index]\n",
        "\n",
        "\n",
        "print(f\"First element: {first_element}\")\n",
        "print(f\"Last element: {last_element}\")\n",
        "print(f\"Middle element: {middle_element}\")\n"
      ]
    }
  ]
}