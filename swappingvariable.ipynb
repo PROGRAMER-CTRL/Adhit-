{
  "nbformat": 4,
  "nbformat_minor": 0,
  "metadata": {
    "colab": {
      "provenance": [],
      "toc_visible": true
    },
    "kernelspec": {
      "name": "python3",
      "display_name": "Python 3"
    },
    "language_info": {
      "name": "python"
    }
  },
  "cells": [
    {
      "source": [
        "# Get input for the two variables\n",
        "a = input(\"Enter the value of a: \")\n",
        "b = input(\"Enter the value of b: \")\n",
        "\n",
        "# Swap the values using tuple packing and unpacking\n",
        "a, b = b, a\n",
        "\n",
        "# Print the swapped values\n",
        "print(\"After swapping:\")\n",
        "print(\"a =\", a)\n",
        "print(\"b =\", b)"
      ],
      "cell_type": "code",
      "metadata": {
        "colab": {
          "base_uri": "https://localhost:8080/"
        },
        "id": "TMQf23Nmv5Ts",
        "outputId": "3923b153-6eca-4ec0-a3ce-ead4c76e1e6f"
      },
      "execution_count": 8,
      "outputs": [
        {
          "output_type": "stream",
          "name": "stdout",
          "text": [
            "Enter the value of a: 8\n",
            "Enter the value of b: 6\n",
            "After swapping:\n",
            "a = 6\n",
            "b = 8\n"
          ]
        }
      ]
    }
  ]
}