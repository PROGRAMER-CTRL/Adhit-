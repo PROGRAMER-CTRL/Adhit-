{
  "nbformat": 4,
  "nbformat_minor": 0,
  "metadata": {
    "colab": {
      "provenance": []
    },
    "kernelspec": {
      "name": "python3",
      "display_name": "Python 3"
    },
    "language_info": {
      "name": "python"
    }
  },
  "cells": [
    {
      "cell_type": "code",
      "execution_count": 7,
      "metadata": {
        "colab": {
          "base_uri": "https://localhost:8080/"
        },
        "id": "h0tAUU_pvA5H",
        "outputId": "436efeb4-3214-4d5b-d5e4-5ffef4ec4c53"
      },
      "outputs": [
        {
          "output_type": "stream",
          "name": "stdout",
          "text": [
            "The element 120 appears 3 times in the list.\n"
          ]
        }
      ],
      "source": [
        "def count_element(lst, element):\n",
        "    return lst.count(element)\n",
        "\n",
        "my_list = [100, 120, 120, 200, 400, 120, 400]\n",
        "element_to_count = 120\n",
        "count = count_element(my_list, element_to_count)\n",
        "print(f\"The element {element_to_count} appears {count} times in the list.\")\n"
      ]
    }
  ]
}