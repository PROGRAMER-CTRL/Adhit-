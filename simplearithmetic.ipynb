{
  "nbformat": 4,
  "nbformat_minor": 0,
  "metadata": {
    "colab": {
      "provenance": [],
      "toc_visible": true
    },
    "kernelspec": {
      "name": "python3",
      "display_name": "Python 3"
    },
    "language_info": {
      "name": "python"
    }
  },
  "cells": [
    {
      "source": [
        "# Get input from the user\n",
        "num1 = float(input(\"Enter the first number: \"))\n",
        "num2 = float(input(\"Enter the second number: \"))\n",
        "\n",
        "# Perform calculations\n",
        "sum = num1 + num2\n",
        "difference = num1 - num2\n",
        "product = num1 * num2\n",
        "quotient = num1 / num2\n",
        "\n",
        "# Print the results\n",
        "print(\"Sum:\", sum)\n",
        "print(\"Difference:\", difference)\n",
        "print(\"Product:\", product)\n",
        "print(\"Quotient:\", quotient)"
      ],
      "cell_type": "code",
      "metadata": {
        "colab": {
          "base_uri": "https://localhost:8080/"
        },
        "id": "fj9Cq78PtyqS",
        "outputId": "2e4becf5-745a-4268-c27c-4c93959e96f3"
      },
      "execution_count": 4,
      "outputs": [
        {
          "output_type": "stream",
          "name": "stdout",
          "text": [
            "Enter the first number: 7\n",
            "Enter the second number: 6\n",
            "Sum: 13.0\n",
            "Difference: 1.0\n",
            "Product: 42.0\n",
            "Quotient: 1.1666666666666667\n"
          ]
        }
      ]
    }
  ]
}