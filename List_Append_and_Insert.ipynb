{
  "nbformat": 4,
  "nbformat_minor": 0,
  "metadata": {
    "colab": {
      "provenance": []
    },
    "kernelspec": {
      "name": "python3",
      "display_name": "Python 3"
    },
    "language_info": {
      "name": "python"
    }
  },
  "cells": [
    {
      "cell_type": "code",
      "execution_count": 7,
      "metadata": {
        "colab": {
          "base_uri": "https://localhost:8080/"
        },
        "id": "34PMlScKrSld",
        "outputId": "e463d8c3-eb33-4ede-febc-68a0d467940f"
      },
      "outputs": [
        {
          "output_type": "stream",
          "name": "stdout",
          "text": [
            "[10, 20, 30, 40, 44, 21]\n"
          ]
        }
      ],
      "source": [
        "my_list = [10, 20, 30, 40]\n",
        "\n",
        "my_list.append(44)\n",
        "\n",
        "my_list.insert(10, 21)\n",
        "\n",
        "print(my_list)\n"
      ]
    }
  ]
}