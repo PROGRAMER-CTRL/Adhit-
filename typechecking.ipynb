{
  "nbformat": 4,
  "nbformat_minor": 0,
  "metadata": {
    "colab": {
      "provenance": []
    },
    "kernelspec": {
      "name": "python3",
      "display_name": "Python 3"
    },
    "language_info": {
      "name": "python"
    }
  },
  "cells": [
    {
      "source": [
        "def check_data_type():\n",
        "    \"\"\"\n",
        "    This function asks the user to input a value,\n",
        "    and then prints the data type of the entered value.\n",
        "    \"\"\"\n",
        "\n",
        "    user_input = input(\"Enter a value: \")\n",
        "\n",
        "    try:\n",
        "        # Attempt to convert the input to an integer\n",
        "        user_input = int(user_input)\n",
        "        data_type = type(user_input).__name__\n",
        "    except ValueError:\n",
        "        try:\n",
        "            # If it's not an integer, try converting to a float\n",
        "            user_input = float(user_input)\n",
        "            data_type = type(user_input).__name__\n",
        "        except ValueError:\n",
        "            # If it's not a float either, it's likely a string\n",
        "            data_type = type(user_input).__name__\n",
        "\n",
        "    print(f\"The data type of the entered value is: {data_type}\")\n",
        "\n",
        "# Call the function to execute\n",
        "check_data_type()"
      ],
      "cell_type": "code",
      "metadata": {
        "colab": {
          "base_uri": "https://localhost:8080/"
        },
        "id": "4uwRiOjmzuV7",
        "outputId": "0793f72c-eaaf-495a-c4a2-ee781cc60599"
      },
      "execution_count": 18,
      "outputs": [
        {
          "output_type": "stream",
          "name": "stdout",
          "text": [
            "Enter a value: 89\n",
            "The data type of the entered value is: int\n"
          ]
        }
      ]
    }
  ]
}