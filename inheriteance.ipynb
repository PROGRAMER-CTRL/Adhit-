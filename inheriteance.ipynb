{
  "nbformat": 4,
  "nbformat_minor": 0,
  "metadata": {
    "colab": {
      "provenance": []
    },
    "kernelspec": {
      "name": "python3",
      "display_name": "Python 3"
    },
    "language_info": {
      "name": "python"
    }
  },
  "cells": [
    {
      "cell_type": "code",
      "execution_count": 6,
      "metadata": {
        "colab": {
          "base_uri": "https://localhost:8080/"
        },
        "id": "otqPStZKU53k",
        "outputId": "653ecfed-7ad7-4b00-de52-bb43d4d571a2"
      },
      "outputs": [
        {
          "output_type": "stream",
          "name": "stdout",
          "text": [
            "A:-New technology\n",
            "B:-Upgraded technology\n"
          ]
        }
      ],
      "source": [
        "class A:\n",
        "    def feature1(self):\n",
        "        print(\"A:-New technology\")\n",
        "\n",
        "class B:\n",
        "    def feature2(self):\n",
        "        print(\"B:-Upgraded technology\")\n",
        "\n",
        "class C(A, B):\n",
        "    pass\n",
        "\n",
        "obj = C()\n",
        "\n",
        "obj.feature1()\n",
        "obj.feature2()\n"
      ]
    }
  ]
}