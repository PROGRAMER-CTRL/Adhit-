{
  "nbformat": 4,
  "nbformat_minor": 0,
  "metadata": {
    "colab": {
      "provenance": []
    },
    "kernelspec": {
      "name": "python3",
      "display_name": "Python 3"
    },
    "language_info": {
      "name": "python"
    }
  },
  "cells": [
    {
      "cell_type": "code",
      "execution_count": 4,
      "metadata": {
        "colab": {
          "base_uri": "https://localhost:8080/"
        },
        "id": "ldb6v_tXsJNf",
        "outputId": "eff68997-1f95-42db-da71-39d6115bf6f6"
      },
      "outputs": [
        {
          "output_type": "stream",
          "name": "stdout",
          "text": [
            "[10, 30, 40, 50]\n",
            "Pop element: 40\n",
            "List after pop(): [20, 30, 50, 70]\n"
          ]
        }
      ],
      "source": [
        "my_list = [10, 20, 30, 40, 50]\n",
        "my_list.remove(20)\n",
        "print(my_list)\n",
        "\n",
        "my_list = [20, 30, 40, 50, 70]\n",
        "\n",
        "popped_element = my_list.pop(2)\n",
        "print(\"Pop element:\", popped_element)\n",
        "print(\"List after pop():\", my_list)\n"
      ]
    }
  ]
}