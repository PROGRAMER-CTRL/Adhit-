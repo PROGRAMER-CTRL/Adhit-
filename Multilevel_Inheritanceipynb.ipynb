{
  "nbformat": 4,
  "nbformat_minor": 0,
  "metadata": {
    "colab": {
      "provenance": []
    },
    "kernelspec": {
      "name": "python3",
      "display_name": "Python 3"
    },
    "language_info": {
      "name": "python"
    }
  },
  "cells": [
    {
      "cell_type": "code",
      "execution_count": 3,
      "metadata": {
        "colab": {
          "base_uri": "https://localhost:8080/"
        },
        "id": "9hFiuCpLAc60",
        "outputId": "4ddaa668-8265-47ba-dd7b-75a689befff5"
      },
      "outputs": [
        {
          "output_type": "stream",
          "name": "stdout",
          "text": [
            "Brownie is a Labrador dog with white fur.\n",
            "Brownie barks.\n"
          ]
        }
      ],
      "source": [
        "class Animal:\n",
        "    def __init__(self, name):\n",
        "        self.name = name\n",
        "\n",
        "    def speak(self):\n",
        "        print(f\"{self.name} makes a sound.\")\n",
        "\n",
        "class Mammal(Animal):\n",
        "    def __init__(self, name, fur_color):\n",
        "        super().__init__(name)\n",
        "        self.fur_color = fur_color\n",
        "\n",
        "    def describe(self):\n",
        "        print(f\"{self.name} has {self.fur_color} fur.\")\n",
        "\n",
        "class Dog(Mammal):\n",
        "    def __init__(self, name, fur_color, breed):\n",
        "        super().__init__(name, fur_color)\n",
        "        self.breed = breed\n",
        "\n",
        "    def display_info(self):\n",
        "        print(f\"{self.name} is a {self.breed} dog with {self.fur_color} fur.\")\n",
        "\n",
        "    def speak(self):\n",
        "        print(f\"{self.name} barks.\")\n",
        "\n",
        "my_dog = Dog(name=\"Brownie\", fur_color=\"white\", breed=\"Labrador\")\n",
        "\n",
        "my_dog.display_info()\n",
        "my_dog.speak()\n"
      ]
    }
  ]
}