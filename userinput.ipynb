{
  "nbformat": 4,
  "nbformat_minor": 0,
  "metadata": {
    "colab": {
      "provenance": []
    },
    "kernelspec": {
      "name": "python3",
      "display_name": "Python 3"
    },
    "language_info": {
      "name": "python"
    }
  },
  "cells": [
    {
      "source": [
        "name = input(\"What is your name? \")\n",
        "print(\"Hello, \" + name + \"! Nice to meet you.\")"
      ],
      "cell_type": "code",
      "metadata": {
        "colab": {
          "base_uri": "https://localhost:8080/"
        },
        "id": "VliNXMB0eK3k",
        "outputId": "d97187f3-d3f9-4f17-af33-fc578ab51244"
      },
      "execution_count": 1,
      "outputs": [
        {
          "output_type": "stream",
          "name": "stdout",
          "text": [
            "What is your name? nagashree\n",
            "Hello, nagashree! Nice to meet you.\n"
          ]
        }
      ]
    }
  ]
}