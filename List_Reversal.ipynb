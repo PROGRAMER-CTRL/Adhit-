{
  "nbformat": 4,
  "nbformat_minor": 0,
  "metadata": {
    "colab": {
      "provenance": []
    },
    "kernelspec": {
      "name": "python3",
      "display_name": "Python 3"
    },
    "language_info": {
      "name": "python"
    }
  },
  "cells": [
    {
      "cell_type": "code",
      "source": [
        "my_list = [77,55,22,00]\n",
        "my_list.reverse()\n",
        "print(\"Reversed list:\", my_list)\n"
      ],
      "metadata": {
        "colab": {
          "base_uri": "https://localhost:8080/"
        },
        "id": "INcbJxS8uk5I",
        "outputId": "82f9abb6-5609-4e57-a828-7b68636f3a2d"
      },
      "execution_count": 1,
      "outputs": [
        {
          "output_type": "stream",
          "name": "stdout",
          "text": [
            "Reversed list: [0, 22, 55, 77]\n"
          ]
        }
      ]
    }
  ]
}