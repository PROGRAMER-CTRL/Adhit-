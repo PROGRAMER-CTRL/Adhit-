{
  "nbformat": 4,
  "nbformat_minor": 0,
  "metadata": {
    "colab": {
      "provenance": []
    },
    "kernelspec": {
      "name": "python3",
      "display_name": "Python 3"
    },
    "language_info": {
      "name": "python"
    }
  },
  "cells": [
    {
      "cell_type": "code",
      "execution_count": 1,
      "metadata": {
        "colab": {
          "base_uri": "https://localhost:8080/"
        },
        "id": "cALnjKohXke0",
        "outputId": "e143559f-9341-476d-8f2f-badf5bc882a5"
      },
      "outputs": [
        {
          "output_type": "stream",
          "name": "stdout",
          "text": [
            "[21, 44, 64, 99, 71]\n"
          ]
        }
      ],
      "source": [
        "my_list = [21,44,64,99,71]\n",
        "print(my_list)"
      ]
    }
  ]
}