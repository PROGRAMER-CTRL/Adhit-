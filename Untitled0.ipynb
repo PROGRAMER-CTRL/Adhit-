{
  "nbformat": 4,
  "nbformat_minor": 0,
  "metadata": {
    "colab": {
      "provenance": []
    },
    "kernelspec": {
      "name": "python3",
      "display_name": "Python 3"
    },
    "language_info": {
      "name": "python"
    }
  },
  "cells": [
    {
      "cell_type": "code",
      "execution_count": 5,
      "metadata": {
        "colab": {
          "base_uri": "https://localhost:8080/"
        },
        "id": "NEN1tyrPUV-P",
        "outputId": "4ccf9198-7e8e-4ad1-bebd-4af2bdbc07a6"
      },
      "outputs": [
        {
          "output_type": "stream",
          "name": "stdout",
          "text": [
            "enter first number:10\n",
            "enter second number:10\n",
            "multiplication of two numbers: 100\n",
            "addition of two numbers: 20\n",
            "subtraction of two numbers: 0\n",
            "division of two numbers: 1.0\n"
          ]
        }
      ],
      "source": [
        "# program to add two numbers:\n",
        "num1=int(input(\"enter first number:\"))\n",
        "num2=int(input(\"enter second number:\"))\n",
        "mul = num1*num2\n",
        "sum=num1+num2\n",
        "sub=num1-num2\n",
        "div=num1/num2\n",
        "print(\"multiplication of two numbers:\",mul)\n",
        "print(\"addition of two numbers:\",sum)\n",
        "print(\"subtraction of two numbers:\",sub)\n",
        "print(\"division of two numbers:\",div)"
      ]
    }
  ]
}