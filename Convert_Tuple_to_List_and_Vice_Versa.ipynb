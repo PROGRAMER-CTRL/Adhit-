{
  "nbformat": 4,
  "nbformat_minor": 0,
  "metadata": {
    "colab": {
      "provenance": []
    },
    "kernelspec": {
      "name": "python3",
      "display_name": "Python 3"
    },
    "language_info": {
      "name": "python"
    }
  },
  "cells": [
    {
      "cell_type": "code",
      "execution_count": 1,
      "metadata": {
        "colab": {
          "base_uri": "https://localhost:8080/"
        },
        "id": "5SNKx8kh53gz",
        "outputId": "ef88cf16-d62f-41e0-fe0b-b00d6000f6c8"
      },
      "outputs": [
        {
          "output_type": "stream",
          "name": "stdout",
          "text": [
            "Converted Tuple to List: [7, 8, 9, 10]\n",
            "Converted List to Tuple: (2, 3, 4, 5)\n"
          ]
        }
      ],
      "source": [
        "my_tuple = (7, 8, 9, 10)\n",
        "tuple_to_list = list(my_tuple)\n",
        "print(\"Converted Tuple to List:\", tuple_to_list)\n",
        "\n",
        "my_list = [2, 3, 4, 5]\n",
        "list_to_tuple = tuple(my_list)\n",
        "print(\"Converted List to Tuple:\", list_to_tuple)\n"
      ]
    }
  ]
}