{
  "nbformat": 4,
  "nbformat_minor": 0,
  "metadata": {
    "colab": {
      "provenance": []
    },
    "kernelspec": {
      "name": "python3",
      "display_name": "Python 3"
    },
    "language_info": {
      "name": "python"
    }
  },
  "cells": [
    {
      "cell_type": "code",
      "execution_count": 1,
      "metadata": {
        "colab": {
          "base_uri": "https://localhost:8080/"
        },
        "id": "hSAEV8Q8-XHs",
        "outputId": "77c20b84-6fb1-45cb-d6d4-ec447b1a0bd3"
      },
      "outputs": [
        {
          "output_type": "stream",
          "name": "stdout",
          "text": [
            "{'Name': 'Adhit', 'City': 'Banglore'}\n"
          ]
        }
      ],
      "source": [
        "my_dict = {'Name': 'Adhit', 'Age': 19, 'City': 'Banglore'}\n",
        "\n",
        "del my_dict['Age']\n",
        "\n",
        "print(my_dict)\n"
      ]
    }
  ]
}