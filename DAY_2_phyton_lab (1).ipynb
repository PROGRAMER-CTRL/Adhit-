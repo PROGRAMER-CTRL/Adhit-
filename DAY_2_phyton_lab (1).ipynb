{
  "cells": [
    {
      "cell_type": "code",
      "execution_count": null,
      "metadata": {
        "colab": {
          "base_uri": "https://localhost:8080/"
        },
        "id": "aDg0JsnFcP1z",
        "outputId": "e4691a4a-18ff-429a-9a26-05c78051ed3d"
      },
      "outputs": [
        {
          "name": "stdout",
          "output_type": "stream",
          "text": [
            "count: 0\n",
            "count: 1\n",
            "count: 2\n",
            "count: 3\n",
            "count: 4\n"
          ]
        }
      ],
      "source": [
        "whtcount = 0\n",
        "while count < 5:\n",
        "  print(\"count:\", count)\n",
        "  count += 1"
      ]
    },
    {
      "cell_type": "code",
      "execution_count": null,
      "metadata": {
        "colab": {
          "base_uri": "https://localhost:8080/"
        },
        "id": "mnI6cCrsdrPQ",
        "outputId": "13b3a6e2-ab44-4a75-93ce-4ebd0678195d"
      },
      "outputs": [
        {
          "name": "stdout",
          "output_type": "stream",
          "text": [
            "0\n",
            "1\n",
            "2\n",
            "3\n",
            "4\n"
          ]
        }
      ],
      "source": [
        "for i in range(10):\n",
        " if i == 5:\n",
        "  break\n",
        " print(i)"
      ]
    },
    {
      "cell_type": "code",
      "execution_count": null,
      "metadata": {
        "colab": {
          "base_uri": "https://localhost:8080/"
        },
        "id": "DN9RMmBkgNdW",
        "outputId": "c43a514d-cbf7-4ee9-b02f-5df9cb877a8c"
      },
      "outputs": [
        {
          "name": "stdout",
          "output_type": "stream",
          "text": [
            "0\n",
            "1\n",
            "2\n",
            "3\n",
            "4\n",
            "6\n",
            "7\n",
            "8\n",
            "9\n"
          ]
        }
      ],
      "source": [
        "for i in range(10):\n",
        " if i == 5:\n",
        "  continue\n",
        " print(i)"
      ]
    },
    {
      "cell_type": "code",
      "execution_count": null,
      "metadata": {
        "colab": {
          "base_uri": "https://localhost:8080/"
        },
        "id": "rGRiXc-Zge74",
        "outputId": "54b2b03d-6302-4294-faab-e92775ed7b6c"
      },
      "outputs": [
        {
          "name": "stdout",
          "output_type": "stream",
          "text": [
            "0\n",
            "1\n",
            "2\n",
            "3\n",
            "4\n",
            "5\n",
            "6\n",
            "7\n",
            "8\n",
            "9\n"
          ]
        }
      ],
      "source": [
        "for i in range(10):\n",
        " if i == 5:\n",
        "  pass\n",
        " print(i)"
      ]
    },
    {
      "cell_type": "code",
      "execution_count": null,
      "metadata": {
        "colab": {
          "base_uri": "https://localhost:8080/"
        },
        "id": "ukBjWiS_hMar",
        "outputId": "f4e3a602-d22d-4d6b-b477-3474428649c8"
      },
      "outputs": [
        {
          "name": "stdout",
          "output_type": "stream",
          "text": [
            "9\n",
            "9\n",
            "9\n",
            "9\n",
            "9\n",
            "9\n",
            "9\n",
            "9\n",
            "9\n",
            "9\n"
          ]
        }
      ],
      "source": [
        "for I in range(10):\n",
        " if i == 5:\n",
        "   break\n",
        " print(i)"
      ]
    },
    {
      "cell_type": "code",
      "execution_count": null,
      "metadata": {
        "id": "jcLEZUDLi6KU"
      },
      "outputs": [],
      "source": [
        "number=int(input(\"Enter a number:\"))\n",
        "if number % 2 == 0:\n",
        " print"
      ]
    },
    {
      "cell_type": "code",
      "execution_count": null,
      "metadata": {
        "colab": {
          "base_uri": "https://localhost:8080/"
        },
        "id": "dQ6qohBclDvW",
        "outputId": "450cad4a-3458-4f03-c4b7-d3bf2f0aa507"
      },
      "outputs": [
        {
          "name": "stdout",
          "output_type": "stream",
          "text": [
            "Enter start range1\n",
            "enter end range4\n",
            "1\n",
            "3\n",
            "6\n"
          ]
        }
      ],
      "source": [
        "a=int(input(\"Enter start range\"))\n",
        "b=int(input (\"enter end range\"))\n",
        "sum =0\n",
        "for i in range (a,b):\n",
        "  sum=sum+i\n",
        "  print(sum)"
      ]
    },
    {
      "cell_type": "code",
      "execution_count": null,
      "metadata": {
        "id": "ak09eCCul-Fc"
      },
      "outputs": [],
      "source": [
        "num1=float(input (\"Enter first number: \"))\n",
        "num2=float(input(\"Enter second number: \"))\n",
        "operation=input (\"Enter"
      ]
    },
    {
      "cell_type": "code",
      "execution_count": null,
      "metadata": {
        "colab": {
          "background_save": true,
          "base_uri": "https://localhost:8080/",
          "height": 154
        },
        "id": "IcPU_ARUzRjP",
        "outputId": "6484682d-704f-4895-e3f4-70fa9ce2727d"
      },
      "outputs": [
        {
          "ename": "IndentationError",
          "evalue": "unexpected indent (<ipython-input-52-27470ef42109>, line 2)",
          "output_type": "error",
          "traceback": [
            "\u001b[0;36m  File \u001b[0;32m\"<ipython-input-52-27470ef42109>\"\u001b[0;36m, line \u001b[0;32m2\u001b[0m\n\u001b[0;31m    if (year%4==0 and year%100!=0) or (year%400==0):\u001b[0m\n\u001b[0m    ^\u001b[0m\n\u001b[0;31mIndentationError\u001b[0m\u001b[0;31m:\u001b[0m unexpected indent\n"
          ]
        }
      ],
      "source": [
        "year=int(input(\"Enter a year: \"))\n",
        " if(year%4 == 0 and year %100!=0) or (year%400 == 0):\n",
        "  print(\"Leap year\")\n",
        " else:\n",
        " print(\"Not a Leap year\")"
      ]
    },
    {
      "cell_type": "code",
      "execution_count": null,
      "metadata": {
        "colab": {
          "base_uri": "https://localhost:8080/",
          "height": 174
        },
        "id": "m-lI5jub09kW",
        "outputId": "5996f624-9981-40a2-e872-9491bb1eff69"
      },
      "outputs": [
        {
          "output_type": "error",
          "ename": "IndentationError",
          "evalue": "expected an indented block after 'for' statement on line 2 (<ipython-input-68-28e3c4e76656>, line 3)",
          "traceback": [
            "\u001b[0;36m  File \u001b[0;32m\"<ipython-input-68-28e3c4e76656>\"\u001b[0;36m, line \u001b[0;32m3\u001b[0m\n\u001b[0;31m    if i%2==0:\u001b[0m\n\u001b[0m    ^\u001b[0m\n\u001b[0;31mIndentationError\u001b[0m\u001b[0;31m:\u001b[0m expected an indented block after 'for' statement on line 2\n"
          ]
        }
      ],
      "source": [
        "even_sum=0\n",
        "for i in range(2,4+1):\n",
        " if i%2==0:\n",
        "  even_sum=even_sum+i\n",
        "print(even_sum)"
      ]
    },
    {
      "cell_type": "code",
      "source": [
        "def greet(name):\n",
        " print (\"Hello, \" + name+ \"!\")\n",
        "greet(\"ADHIT\")"
      ],
      "metadata": {
        "id": "ZEkfOh5Z9Hr0",
        "colab": {
          "base_uri": "https://localhost:8080/"
        },
        "outputId": "5a7d1e91-03cb-4cfd-cbef-bc801ca9984b"
      },
      "execution_count": null,
      "outputs": [
        {
          "output_type": "stream",
          "name": "stdout",
          "text": [
            "Hello, ADHIT!\n"
          ]
        }
      ]
    },
    {
      "cell_type": "code",
      "source": [
        "greet(\"ADHIT\")"
      ],
      "metadata": {
        "colab": {
          "base_uri": "https://localhost:8080/"
        },
        "id": "3Ki6paCuE8y9",
        "outputId": "58f5ac16-0d7e-474f-d718-9ec8568af052"
      },
      "execution_count": null,
      "outputs": [
        {
          "output_type": "stream",
          "name": "stdout",
          "text": [
            "Hello, ADHIT!\n"
          ]
        }
      ]
    },
    {
      "cell_type": "code",
      "source": [
        "def ADHIT(9071506642)\n",
        "print(phone number)"
      ],
      "metadata": {
        "colab": {
          "base_uri": "https://localhost:8080/",
          "height": 135
        },
        "id": "sVTnOn15FNuv",
        "outputId": "4e6d213d-2503-4cb9-bb76-7b15a7b5b311"
      },
      "execution_count": null,
      "outputs": [
        {
          "output_type": "error",
          "ename": "SyntaxError",
          "evalue": "expected ':' (<ipython-input-72-854757b00e0b>, line 1)",
          "traceback": [
            "\u001b[0;36m  File \u001b[0;32m\"<ipython-input-72-854757b00e0b>\"\u001b[0;36m, line \u001b[0;32m1\u001b[0m\n\u001b[0;31m    def name()\u001b[0m\n\u001b[0m              ^\u001b[0m\n\u001b[0;31mSyntaxError\u001b[0m\u001b[0;31m:\u001b[0m expected ':'\n"
          ]
        }
      ]
    },
    {
      "cell_type": "code",
      "source": [],
      "metadata": {
        "id": "ipKa7WpyhRUK"
      },
      "execution_count": null,
      "outputs": []
    }
  ],
  "metadata": {
    "colab": {
      "provenance": []
    },
    "kernelspec": {
      "display_name": "Python 3",
      "name": "python3"
    },
    "language_info": {
      "name": "python"
    }
  },
  "nbformat": 4,
  "nbformat_minor": 0
}