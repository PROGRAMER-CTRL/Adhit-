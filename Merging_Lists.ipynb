{
  "nbformat": 4,
  "nbformat_minor": 0,
  "metadata": {
    "colab": {
      "provenance": []
    },
    "kernelspec": {
      "name": "python3",
      "display_name": "Python 3"
    },
    "language_info": {
      "name": "python"
    }
  },
  "cells": [
    {
      "cell_type": "code",
      "execution_count": 10,
      "metadata": {
        "id": "h0tAUU_pvA5H",
        "colab": {
          "base_uri": "https://localhost:8080/"
        },
        "outputId": "1e9aaefe-052f-40b7-cac9-35fd64394b25"
      },
      "outputs": [
        {
          "output_type": "stream",
          "name": "stdout",
          "text": [
            "Merged list without duplicates: [100, 36, 74, 44, 24, 95]\n"
          ]
        }
      ],
      "source": [
        "def merge_and_remove_duplicates(list1, list2):\n",
        "    merged_list = list(set(list1 + list2))\n",
        "    return merged_list\n",
        "\n",
        "list1 = [100, 24, 74, 44]\n",
        "list2 = [44, 74, 95, 36]\n",
        "\n",
        "result = merge_and_remove_duplicates(list1, list2)\n",
        "\n",
        "print(\"Merged list without duplicates:\", result)\n"
      ]
    }
  ]
}