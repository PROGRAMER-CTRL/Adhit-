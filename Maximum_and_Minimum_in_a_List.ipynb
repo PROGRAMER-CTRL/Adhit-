{
  "nbformat": 4,
  "nbformat_minor": 0,
  "metadata": {
    "colab": {
      "provenance": []
    },
    "kernelspec": {
      "name": "python3",
      "display_name": "Python 3"
    },
    "language_info": {
      "name": "python"
    }
  },
  "cells": [
    {
      "cell_type": "code",
      "execution_count": 15,
      "metadata": {
        "colab": {
          "base_uri": "https://localhost:8080/"
        },
        "id": "c6-dZ193vCFg",
        "outputId": "5c6ec19a-de33-43a1-a44f-8b7b767dfec1"
      },
      "outputs": [
        {
          "output_type": "stream",
          "name": "stdout",
          "text": [
            "80\n",
            "2\n"
          ]
        }
      ],
      "source": [
        "def find_largest_and_smallest(my_list):\n",
        "    largest = max(my_list)\n",
        "    smallest = min(my_list)\n",
        "\n",
        "    return largest, smallest\n",
        "numbers = [20, 2, 80, 15, 41, 22, 3]\n",
        "largest, smallest = find_largest_and_smallest(numbers)\n",
        "\n",
        "print(largest)\n",
        "print(smallest)\n"
      ]
    },
    {
      "cell_type": "code",
      "source": [],
      "metadata": {
        "id": "AlkytmrawpRu"
      },
      "execution_count": null,
      "outputs": []
    }
  ]
}