{
  "nbformat": 4,
  "nbformat_minor": 0,
  "metadata": {
    "colab": {
      "provenance": []
    },
    "kernelspec": {
      "name": "python3",
      "display_name": "Python 3"
    },
    "language_info": {
      "name": "python"
    }
  },
  "cells": [
    {
      "cell_type": "code",
      "source": [
        "class Animal:\n",
        "  def speak(self):\n",
        "    print(\"Animal speaking\")\n",
        "\n",
        "class Cow(Animal):\n",
        "  def speak(self):\n",
        "    print(\"Cow Mooing\")\n",
        "\n",
        "class duck(Animal):\n",
        "  def speak(self):\n",
        "    print(\"duck quacking\")\n",
        "class Wolf(Animal):\n",
        "  def speak(self):\n",
        "    print(\"Wolf Howling\")\n",
        "\n",
        "cow = Cow()\n",
        "duck = duck()\n",
        "wolf = Wolf()\n",
        "\n",
        "cow.speak()\n",
        "duck.speak()\n",
        "wolf.speak()\n"
      ],
      "metadata": {
        "colab": {
          "base_uri": "https://localhost:8080/"
        },
        "id": "AOU2LoPhDd3d",
        "outputId": "c481df50-0e0d-4f56-d047-69b148cc775e"
      },
      "execution_count": 20,
      "outputs": [
        {
          "output_type": "stream",
          "name": "stdout",
          "text": [
            "Cow Mooing\n",
            "duck quacking\n",
            "Wolf Howling\n"
          ]
        }
      ]
    }
  ]
}