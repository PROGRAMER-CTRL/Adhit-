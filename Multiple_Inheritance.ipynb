{
  "nbformat": 4,
  "nbformat_minor": 0,
  "metadata": {
    "colab": {
      "provenance": []
    },
    "kernelspec": {
      "name": "python3",
      "display_name": "Python 3"
    },
    "language_info": {
      "name": "python"
    }
  },
  "cells": [
    {
      "cell_type": "code",
      "execution_count": 3,
      "metadata": {
        "colab": {
          "base_uri": "https://localhost:8080/"
        },
        "id": "hi4147F-_n5f",
        "outputId": "e0263cff-9e42-4527-c850-5fb55a52dc0e"
      },
      "outputs": [
        {
          "output_type": "stream",
          "name": "stdout",
          "text": [
            "Car Brand: Toyota\n",
            "Car Model: Corolla\n",
            "Engine Type: V8\n",
            "Number of Wheels: 4\n"
          ]
        }
      ],
      "source": [
        "# Parent class 1\n",
        "class Engine:\n",
        "    def __init__(self, engine_type):\n",
        "        self.engine_type = engine_type\n",
        "\n",
        "    def engine_info(self):\n",
        "        print(f\"Engine Type: {self.engine_type}\")\n",
        "\n",
        "\n",
        "# Parent class 2\n",
        "class Wheels:\n",
        "    def __init__(self, num_wheels):\n",
        "        self.num_wheels = num_wheels\n",
        "\n",
        "    def wheel_info(self):\n",
        "        print(f\"Number of Wheels: {self.num_wheels}\")\n",
        "\n",
        "\n",
        "# Child class inheriting from both Engine and Wheels\n",
        "class Car(Engine, Wheels):\n",
        "    def __init__(self, engine_type, num_wheels, brand, model):\n",
        "        Engine.__init__(self, engine_type)  # Initialize Engine class\n",
        "        Wheels.__init__(self, num_wheels)  # Initialize Wheels class\n",
        "        self.brand = brand\n",
        "        self.model = model\n",
        "\n",
        "    def display_info(self):\n",
        "        print(f\"Car Brand: {self.brand}\")\n",
        "        print(f\"Car Model: {self.model}\")\n",
        "        self.engine_info()  # Call Engine class method\n",
        "        self.wheel_info()   # Call Wheels class method\n",
        "\n",
        "\n",
        "# Create an instance of Car\n",
        "my_car = Car(\"V8\", 4, \"Toyota\", \"Corolla\")\n",
        "\n",
        "# Display information about the car\n",
        "my_car.display_info()\n"
      ]
    }
  ]
}