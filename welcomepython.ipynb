{
  "nbformat": 4,
  "nbformat_minor": 0,
  "metadata": {
    "colab": {
      "provenance": [],
      "toc_visible": true
    },
    "kernelspec": {
      "name": "python3",
      "display_name": "Python 3"
    },
    "language_info": {
      "name": "python"
    }
  },
  "cells": [
    {
      "cell_type": "code",
      "source": [],
      "metadata": {
        "id": "G1e9gPqssKD8"
      },
      "execution_count": null,
      "outputs": []
    },
    {
      "source": [
        "print(\"Welcome to Python Programming!\")"
      ],
      "cell_type": "code",
      "metadata": {
        "colab": {
          "base_uri": "https://localhost:8080/"
        },
        "id": "p1q-mluWscb5",
        "outputId": "ded32f0a-cae6-4c19-f79a-30db94b61b3c"
      },
      "execution_count": 2,
      "outputs": [
        {
          "output_type": "stream",
          "name": "stdout",
          "text": [
            "Welcome to Python Programming!\n"
          ]
        }
      ]
    }
  ]
}