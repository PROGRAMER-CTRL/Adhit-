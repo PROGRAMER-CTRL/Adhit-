{
  "nbformat": 4,
  "nbformat_minor": 0,
  "metadata": {
    "colab": {
      "provenance": []
    },
    "kernelspec": {
      "name": "python3",
      "display_name": "Python 3"
    },
    "language_info": {
      "name": "python"
    }
  },
  "cells": [
    {
      "cell_type": "code",
      "execution_count": 1,
      "metadata": {
        "colab": {
          "base_uri": "https://localhost:8080/"
        },
        "id": "4hnp-ndn1eBx",
        "outputId": "4bbc3f77-b1d4-4038-96d9-045366bfe599"
      },
      "outputs": [
        {
          "output_type": "stream",
          "name": "stdout",
          "text": [
            "10\n",
            "40\n",
            "70\n",
            "80\n"
          ]
        }
      ],
      "source": [
        "my_tuple = (10, 40, 70, 80)\n",
        "\n",
        "a, b, c, d = my_tuple\n",
        "\n",
        "print(a)\n",
        "print(b)\n",
        "print(c)\n",
        "print(d)\n"
      ]
    }
  ]
}