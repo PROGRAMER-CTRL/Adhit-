{
  "nbformat": 4,
  "nbformat_minor": 0,
  "metadata": {
    "colab": {
      "provenance": []
    },
    "kernelspec": {
      "name": "python3",
      "display_name": "Python 3"
    },
    "language_info": {
      "name": "python"
    }
  },
  "cells": [
    {
      "cell_type": "code",
      "source": [
        "# Input principal amount, interest rate, and time period\n",
        "principal = float(input(\"Enter the principal amount: \"))\n",
        "rate = float(input(\"Enter the interest rate: \"))\n",
        "time = float(input(\"Enter the time period in years: \"))\n",
        "\n",
        "# Calculate simple interest\n",
        "interest = (principal * rate * time) / 100\n",
        "\n",
        "# Print the calculated simple interest\n",
        "print(\"Simple Interest:\", interest)\n"
      ],
      "metadata": {
        "colab": {
          "base_uri": "https://localhost:8080/"
        },
        "id": "WqUK0hxkhihs",
        "outputId": "0f18eb4b-04f1-4e9f-9ccf-1e0928c4bedc"
      },
      "execution_count": 30,
      "outputs": [
        {
          "output_type": "stream",
          "name": "stdout",
          "text": [
            "Enter the principal amount: 1000\n",
            "Enter the interest rate: 3\n",
            "Enter the time period in years: 10\n",
            "Simple Interest: 300.0\n"
          ]
        }
      ]
    },
    {
      "cell_type": "code",
      "source": [
        "# Area & Perimeter of Rectangle\n",
        "\n",
        "# Reading length from user\n",
        "length = float(input(\"Enter length of the rectangle: \"))\n",
        "\n",
        "# Reading breadth from user\n",
        "breadth = float(input(\"Enter breadth of the rectangle: \"))\n",
        "\n",
        "# Calculating area\n",
        "area = length * breadth\n",
        "\n",
        "# Calculating perimeter\n",
        "perimeter = 2 * (length * breadth)\n",
        "\n",
        "# Displaying results\n",
        "print(\"Area of rectangle = \", area)\n",
        "print(\"Perimeter of rectangle = \", perimeter)"
      ],
      "metadata": {
        "id": "yQD3P3pxlDo0"
      },
      "execution_count": null,
      "outputs": []
    }
  ]
}