{
  "nbformat": 4,
  "nbformat_minor": 0,
  "metadata": {
    "colab": {
      "provenance": []
    },
    "kernelspec": {
      "name": "python3",
      "display_name": "Python 3"
    },
    "language_info": {
      "name": "python"
    }
  },
  "cells": [
    {
      "cell_type": "code",
      "execution_count": 17,
      "metadata": {
        "colab": {
          "base_uri": "https://localhost:8080/"
        },
        "id": "Tpf4CIJKvCXn",
        "outputId": "31909e87-8a49-4fb4-8216-943dc90d5c74"
      },
      "outputs": [
        {
          "output_type": "stream",
          "name": "stdout",
          "text": [
            "Sum 204\n"
          ]
        }
      ],
      "source": [
        "def calculate_sum(my_list):\n",
        "    total = sum(my_list)\n",
        "    return total\n",
        "\n",
        "numbers = [10, 12, 53, 74, 55]\n",
        "result = calculate_sum(numbers)\n",
        "print(\"Sum\",result)\n"
      ]
    }
  ]
}