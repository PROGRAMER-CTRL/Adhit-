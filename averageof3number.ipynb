{
  "nbformat": 4,
  "nbformat_minor": 0,
  "metadata": {
    "colab": {
      "provenance": []
    },
    "kernelspec": {
      "name": "python3",
      "display_name": "Python 3"
    },
    "language_info": {
      "name": "python"
    }
  },
  "cells": [
    {
      "source": [
        "# Get input from the user\n",
        "num1 = float(input(\"Enter the first number: \"))\n",
        "num2 = float(input(\"Enter the second number: \"))\n",
        "num3 = float(input(\"Enter the third number: \"))\n",
        "\n",
        "# Calculate the average\n",
        "average = (num1 + num2 + num3) / 3\n",
        "\n",
        "# Print the average\n",
        "print(\"The average of the three numbers is:\", average)"
      ],
      "cell_type": "code",
      "metadata": {
        "colab": {
          "base_uri": "https://localhost:8080/"
        },
        "id": "Pu9VLUkU1JPK",
        "outputId": "2522b66d-7fc4-4c5e-f897-35504e319afa"
      },
      "execution_count": 20,
      "outputs": [
        {
          "output_type": "stream",
          "name": "stdout",
          "text": [
            "Enter the first number: 7\n",
            "Enter the second number: 9\n",
            "Enter the third number: 8\n",
            "The average of the three numbers is: 8.0\n"
          ]
        }
      ]
    }
  ]
}