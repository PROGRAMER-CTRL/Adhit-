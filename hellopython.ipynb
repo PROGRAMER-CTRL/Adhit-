{
  "nbformat": 4,
  "nbformat_minor": 0,
  "metadata": {
    "colab": {
      "provenance": [],
      "toc_visible": true
    },
    "kernelspec": {
      "name": "python3",
      "display_name": "Python 3"
    },
    "language_info": {
      "name": "python"
    }
  },
  "cells": [
    {
      "source": [
        "name = input(\"Please enter your name: \")\n",
        "print(\"Hello, \" + name + \"! Welcome to Python Programming!\")"
      ],
      "cell_type": "code",
      "metadata": {
        "colab": {
          "base_uri": "https://localhost:8080/"
        },
        "id": "TSvVVtGztBY8",
        "outputId": "3d4ce7b2-e55e-4e5d-bdd2-9ecfded9595e"
      },
      "execution_count": 3,
      "outputs": [
        {
          "output_type": "stream",
          "name": "stdout",
          "text": [
            "Please enter your name: nagashree\n",
            "Hello, nagashree! Welcome to Python Programming!\n"
          ]
        }
      ]
    }
  ]
}