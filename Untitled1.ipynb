{
  "nbformat": 4,
  "nbformat_minor": 0,
  "metadata": {
    "colab": {
      "provenance": []
    },
    "kernelspec": {
      "name": "python3",
      "display_name": "Python 3"
    },
    "language_info": {
      "name": "python"
    }
  },
  "cells": [
    {
      "cell_type": "code",
      "execution_count": 5,
      "metadata": {
        "colab": {
          "base_uri": "https://localhost:8080/"
        },
        "id": "fofzzSWTbmG4",
        "outputId": "43df4144-d20b-4cf2-c17a-a556c29b2e4c"
      },
      "outputs": [
        {
          "output_type": "stream",
          "name": "stdout",
          "text": [
            "enter temp in celsius25\n",
            "temprature in faren 77.0\n"
          ]
        }
      ],
      "source": [
        "celsius =float(input(\"enter temp in celsius\"))\n",
        "faren=(celsius*9/5)+32\n",
        "print(\"temprature in faren\",faren)"
      ]
    }
  ]
}