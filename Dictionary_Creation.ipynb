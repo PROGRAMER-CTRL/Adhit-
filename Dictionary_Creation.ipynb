{
  "nbformat": 4,
  "nbformat_minor": 0,
  "metadata": {
    "colab": {
      "provenance": []
    },
    "kernelspec": {
      "name": "python3",
      "display_name": "Python 3"
    },
    "language_info": {
      "name": "python"
    }
  },
  "cells": [
    {
      "cell_type": "code",
      "execution_count": 3,
      "metadata": {
        "colab": {
          "base_uri": "https://localhost:8080/"
        },
        "id": "189kEhiv7BlP",
        "outputId": "7fa8b710-83aa-4c5e-d3d2-459c51aed0d2"
      },
      "outputs": [
        {
          "output_type": "stream",
          "name": "stdout",
          "text": [
            "{'name': 'Adhit', 'age': 19, 'city': 'Banglore'}\n"
          ]
        }
      ],
      "source": [
        "my_dict = {\"name\": \"Adhit\",\n",
        "    \"age\": 19,\n",
        "    \"city\": \"Banglore\"}\n",
        "\n",
        "\n",
        "print(my_dict)\n"
      ]
    }
  ]
}