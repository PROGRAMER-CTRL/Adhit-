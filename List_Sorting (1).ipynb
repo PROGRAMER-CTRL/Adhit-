{
  "nbformat": 4,
  "nbformat_minor": 0,
  "metadata": {
    "colab": {
      "provenance": []
    },
    "kernelspec": {
      "name": "python3",
      "display_name": "Python 3"
    },
    "language_info": {
      "name": "python"
    }
  },
  "cells": [
    {
      "cell_type": "code",
      "execution_count": 3,
      "metadata": {
        "colab": {
          "base_uri": "https://localhost:8080/"
        },
        "id": "eMZxdStmtDrp",
        "outputId": "b3ac8f4f-ce40-420a-cb04-236aa7a9a3ad"
      },
      "outputs": [
        {
          "output_type": "stream",
          "name": "stdout",
          "text": [
            "[100, 120, 120, 130, 150, 170, 180]\n",
            "[100, 120, 120, 130, 150, 170, 180]\n"
          ]
        }
      ],
      "source": [
        "numbers = [120, 150, 130, 180, 120, 170, 100]\n",
        "numbers_ascending = sorted(numbers)\n",
        "numbers_descending = sorted(numbers)\n",
        "print(numbers_ascending)\n",
        "print(numbers_descending)\n"
      ]
    }
  ]
}