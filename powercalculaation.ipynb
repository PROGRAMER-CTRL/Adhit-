{
  "nbformat": 4,
  "nbformat_minor": 0,
  "metadata": {
    "colab": {
      "provenance": [],
      "toc_visible": true
    },
    "kernelspec": {
      "name": "python3",
      "display_name": "Python 3"
    },
    "language_info": {
      "name": "python"
    }
  },
  "cells": [
    {
      "source": [
        "# Get input from the user for the base and exponent\n",
        "base = float(input(\"Enter the base number: \"))\n",
        "exponent = float(input(\"Enter the exponent: \"))\n",
        "\n",
        "# Calculate the power using the ** operator\n",
        "result = base ** exponent\n",
        "\n",
        "# Print the result\n",
        "print(base, \"raised to the power of\", exponent, \"is:\", result)"
      ],
      "cell_type": "code",
      "metadata": {
        "colab": {
          "base_uri": "https://localhost:8080/"
        },
        "id": "HxZinBoQx6J8",
        "outputId": "c3177034-6fbd-463b-ad88-cd6e1d965d37"
      },
      "execution_count": 13,
      "outputs": [
        {
          "output_type": "stream",
          "name": "stdout",
          "text": [
            "Enter the base number: 6\n",
            "Enter the exponent: 5\n",
            "6.0 raised to the power of 5.0 is: 7776.0\n"
          ]
        }
      ]
    }
  ]
}