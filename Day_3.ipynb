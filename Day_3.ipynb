{
  "nbformat": 4,
  "nbformat_minor": 0,
  "metadata": {
    "colab": {
      "provenance": []
    },
    "kernelspec": {
      "name": "python3",
      "display_name": "Python 3"
    },
    "language_info": {
      "name": "python"
    }
  },
  "cells": [
    {
      "cell_type": "code",
      "source": [
        "a ={1,2,3,4}\n",
        "b ={1,2,3,4}\n",
        "a|b\n",
        "a&b\n",
        "a-b\n",
        "a.add(88)\n",
        "a.remove(2)\n",
        "a.pop()\n",
        "a.pop()\n",
        "print(a)"
      ],
      "metadata": {
        "colab": {
          "base_uri": "https://localhost:8080/"
        },
        "collapsed": true,
        "id": "tj0iFwhcxP7P",
        "outputId": "b3d0446d-e21e-4c75-e330-dd8061035c56"
      },
      "execution_count": 30,
      "outputs": [
        {
          "output_type": "stream",
          "name": "stdout",
          "text": [
            "{4, 88}\n"
          ]
        }
      ]
    },
    {
      "cell_type": "code",
      "source": [
        "a&b"
      ],
      "metadata": {
        "colab": {
          "base_uri": "https://localhost:8080/"
        },
        "id": "Hu41kFC54jXW",
        "outputId": "84edb1a5-522e-4283-9f21-2ae1e7ada844"
      },
      "execution_count": 31,
      "outputs": [
        {
          "output_type": "execute_result",
          "data": {
            "text/plain": [
              "{4}"
            ]
          },
          "metadata": {},
          "execution_count": 31
        }
      ]
    },
    {
      "cell_type": "code",
      "source": [
        "a-b"
      ],
      "metadata": {
        "colab": {
          "base_uri": "https://localhost:8080/"
        },
        "id": "s5KbPX_O4oqo",
        "outputId": "f138d4a4-797c-4be3-d85d-cea94c5c9ab3"
      },
      "execution_count": 32,
      "outputs": [
        {
          "output_type": "execute_result",
          "data": {
            "text/plain": [
              "{88}"
            ]
          },
          "metadata": {},
          "execution_count": 32
        }
      ]
    }
  ]
}