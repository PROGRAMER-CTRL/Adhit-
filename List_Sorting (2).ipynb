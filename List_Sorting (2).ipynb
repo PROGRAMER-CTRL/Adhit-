{
  "nbformat": 4,
  "nbformat_minor": 0,
  "metadata": {
    "colab": {
      "provenance": []
    },
    "kernelspec": {
      "name": "python3",
      "display_name": "Python 3"
    },
    "language_info": {
      "name": "python"
    }
  },
  "cells": [
    {
      "cell_type": "code",
      "execution_count": 1,
      "metadata": {
        "colab": {
          "base_uri": "https://localhost:8080/"
        },
        "id": "wb8ie7gAtrow",
        "outputId": "c0231504-d756-4c58-f232-5e3f17fe8491"
      },
      "outputs": [
        {
          "output_type": "stream",
          "name": "stdout",
          "text": [
            "List in ascending order: [10, 14, 27, 50, 75, 78, 81]\n",
            "List in descending order: [81, 78, 75, 50, 27, 14, 10]\n"
          ]
        }
      ],
      "source": [
        "numbers = [10, 50, 81, 14, 27, 78, 75]\n",
        "numbers.sort()\n",
        "print(\"List in ascending order:\", numbers)\n",
        "numbers.sort(reverse=True)\n",
        "print(\"List in descending order:\", numbers)\n"
      ]
    }
  ]
}