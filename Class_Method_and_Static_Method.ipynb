{
  "nbformat": 4,
  "nbformat_minor": 0,
  "metadata": {
    "colab": {
      "provenance": []
    },
    "kernelspec": {
      "name": "python3",
      "display_name": "Python 3"
    },
    "language_info": {
      "name": "python"
    }
  },
  "cells": [
    {
      "cell_type": "code",
      "execution_count": 3,
      "metadata": {
        "colab": {
          "base_uri": "https://localhost:8080/"
        },
        "id": "u7KGf_rvBue9",
        "outputId": "bd49af3a-e893-49be-b7d9-6be0ed1baa88"
      },
      "outputs": [
        {
          "output_type": "stream",
          "name": "stdout",
          "text": [
            "My name is Adhit\n",
            "My name is unknown\n",
            "There are 2 instances of MyClass.\n",
            "There are 2 instances of MyClass.\n",
            "Hello! Welcome to Class.\n",
            "Hello! Welcome to Class.\n"
          ]
        }
      ],
      "source": [
        "class MyClass:\n",
        "    count = 0\n",
        "\n",
        "    def __init__(self, name):\n",
        "        self.name = name\n",
        "        MyClass.count += 1\n",
        "\n",
        "    def display(self):\n",
        "        print(f\"My name is {self.name}\")\n",
        "\n",
        "    @classmethod\n",
        "    def get_count(cls):\n",
        "        print(f\"There are {cls.count} instances of MyClass.\")\n",
        "\n",
        "    @staticmethod\n",
        "    def greeting():\n",
        "        print(\"Hello! Welcome to Class.\")\n",
        "\n",
        "\n",
        "obj1 = MyClass(name=\"Adhit\")\n",
        "obj2 = MyClass(\"unknown\")\n",
        "\n",
        "obj1.display()\n",
        "obj2.display()\n",
        "\n",
        "MyClass.get_count()\n",
        "\n",
        "obj1.get_count()\n",
        "\n",
        "MyClass.greeting()\n",
        "\n",
        "obj2.greeting()\n"
      ]
    }
  ]
}