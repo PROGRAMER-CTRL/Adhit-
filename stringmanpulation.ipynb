{
  "nbformat": 4,
  "nbformat_minor": 0,
  "metadata": {
    "colab": {
      "provenance": [],
      "toc_visible": true
    },
    "kernelspec": {
      "name": "python3",
      "display_name": "Python 3"
    },
    "language_info": {
      "name": "python"
    }
  },
  "cells": [
    {
      "source": [
        "\n",
        "input_string = input(\"Enter a string: \")\n",
        "reversed_string = input_string[::-1]\n",
        "print(\"Reversed string:\", reversed_string)"
      ],
      "cell_type": "code",
      "metadata": {
        "colab": {
          "base_uri": "https://localhost:8080/"
        },
        "id": "6dwYtSCBxX6o",
        "outputId": "17fe4591-284d-4703-bbcf-f6357801062e"
      },
      "execution_count": 12,
      "outputs": [
        {
          "output_type": "stream",
          "name": "stdout",
          "text": [
            "Enter a string: 4\n",
            "Reversed string: 4\n"
          ]
        }
      ]
    }
  ]
}