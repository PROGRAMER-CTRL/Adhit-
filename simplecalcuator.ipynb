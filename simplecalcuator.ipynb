{
  "nbformat": 4,
  "nbformat_minor": 0,
  "metadata": {
    "colab": {
      "provenance": []
    },
    "kernelspec": {
      "name": "python3",
      "display_name": "Python 3"
    },
    "language_info": {
      "name": "python"
    }
  },
  "cells": [
    {
      "source": [
        "def calculator():\n",
        "    \"\"\"\n",
        "    This function creates a simple calculator that takes two numbers and an\n",
        "    arithmetic operator (+, -, *, /) as input and performs the\n",
        "    corresponding operation.\n",
        "    \"\"\"\n",
        "    # Get input from the user\n",
        "    num1 = float(input(\"Enter the first number: \"))\n",
        "    num2 = float(input(\"Enter the second number: \"))\n",
        "    operator = input(\"Enter the operator (+, -, *, /): \")\n",
        "\n",
        "    # Perform the calculation based on the operator\n",
        "    if operator == \"+\":\n",
        "        result = num1 + num2\n",
        "    elif operator == \"-\":\n",
        "        result = num1 - num2\n",
        "    elif operator == \"*\":\n",
        "        result = num1 * num2\n",
        "    elif operator == \"/\":\n",
        "        # Check for division by zero\n",
        "        if num2 == 0:\n",
        "            print(\"Error: Division by zero is not allowed.\")\n",
        "            return\n",
        "        result = num1 / num2\n",
        "    else:\n",
        "        print(\"Invalid operator. Please enter +, -, *, or /.\")\n",
        "        return\n",
        "\n",
        "    # Print the result\n",
        "    print(num1, operator, num2, \"=\", result)\n",
        "\n",
        "# Call the calculator function to start the program\n",
        "calculator()"
      ],
      "cell_type": "code",
      "metadata": {
        "colab": {
          "base_uri": "https://localhost:8080/"
        },
        "id": "J0YdBhcyzFhf",
        "outputId": "daeac420-3c4c-47de-f321-4c5a9efcc130"
      },
      "execution_count": 15,
      "outputs": [
        {
          "output_type": "stream",
          "name": "stdout",
          "text": [
            "Enter the first number: 9\n",
            "Enter the second number: 6\n",
            "Enter the operator (+, -, *, /): 78\n",
            "Invalid operator. Please enter +, -, *, or /.\n"
          ]
        }
      ]
    }
  ]
}