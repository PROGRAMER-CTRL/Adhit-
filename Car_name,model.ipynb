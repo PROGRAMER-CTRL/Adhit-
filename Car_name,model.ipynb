{
  "nbformat": 4,
  "nbformat_minor": 0,
  "metadata": {
    "colab": {
      "provenance": []
    },
    "kernelspec": {
      "name": "python3",
      "display_name": "Python 3"
    },
    "language_info": {
      "name": "python"
    }
  },
  "cells": [
    {
      "cell_type": "code",
      "execution_count": 2,
      "metadata": {
        "colab": {
          "base_uri": "https://localhost:8080/"
        },
        "id": "k2SC9WWD-Cwq",
        "outputId": "32a97e97-f6bf-4ba1-861f-8505037a0e47"
      },
      "outputs": [
        {
          "output_type": "stream",
          "name": "stdout",
          "text": [
            "Original Info:\n",
            "Car Brand: B.M.W\n",
            "Car Model: M5cs\n",
            "\n",
            "Updated Info:\n",
            "Car Brand: Bayerische Motoren Werke\n",
            "Car Model: M5 cs M sports\n"
          ]
        }
      ],
      "source": [
        "class Car:\n",
        "    def __init__(self, brand, model):\n",
        "        self.__brand = brand\n",
        "        self.__model = model\n",
        "\n",
        "    def get_brand(self):\n",
        "        return self.__brand\n",
        "\n",
        "    def set_brand(self, brand):\n",
        "        self.__brand = brand\n",
        "\n",
        "    def get_model(self):\n",
        "        return self.__model\n",
        "\n",
        "    def set_model(self, model):\n",
        "        self.__model = model\n",
        "\n",
        "    def display_info(self):\n",
        "        print(f\"Car Brand: {self.__brand}\")\n",
        "        print(f\"Car Model: {self.__model}\")\n",
        "\n",
        "\n",
        "car = Car(\"B.M.W\", \"M5cs\")\n",
        "\n",
        "print(\"Original Info:\")\n",
        "car.display_info()\n",
        "\n",
        "car.set_brand(\"Bayerische Motoren Werke\")\n",
        "car.set_model(model=\"M5 cs M sports\")\n",
        "\n",
        "print(\"\\nUpdated Info:\")\n",
        "car.display_info()\n"
      ]
    }
  ]
}