{
  "nbformat": 4,
  "nbformat_minor": 0,
  "metadata": {
    "colab": {
      "provenance": []
    },
    "kernelspec": {
      "name": "python3",
      "display_name": "Python 3"
    },
    "language_info": {
      "name": "python"
    }
  },
  "cells": [
    {
      "cell_type": "code",
      "execution_count": 8,
      "metadata": {
        "colab": {
          "base_uri": "https://localhost:8080/"
        },
        "id": "c_z4A3Cl84Jy",
        "outputId": "ed4a8f1f-807b-40a1-f74e-04be6f062656"
      },
      "outputs": [
        {
          "output_type": "stream",
          "name": "stdout",
          "text": [
            "{'Name': 'Adhit', 'Age': 19, 'City': 'Banglore'}\n"
          ]
        }
      ],
      "source": [
        "my_dict = {}\n",
        "my_dict['Name'] = 'Adhit'\n",
        "my_dict['Age'] = 25\n",
        "my_dict['City'] = 'Banglore'\n",
        "my_dict['Age'] = 19\n",
        "print(my_dict)\n"
      ]
    }
  ]
}